{
 "cells": [
  {
   "cell_type": "code",
   "execution_count": 6,
   "id": "a74568b7",
   "metadata": {},
   "outputs": [],
   "source": [
    "import numpy as np"
   ]
  },
  {
   "cell_type": "code",
   "execution_count": 7,
   "id": "3c860ae5",
   "metadata": {},
   "outputs": [
    {
     "data": {
      "text/plain": [
       "(array([ 0,  1,  2,  3,  4,  5,  6,  7,  8,  9, 10, 11, 12, 13, 14, 15, 16,\n",
       "        17, 18, 19]),\n",
       " True,\n",
       " (20,))"
      ]
     },
     "execution_count": 7,
     "metadata": {},
     "output_type": "execute_result"
    }
   ],
   "source": [
    "l = [i for i in range(20)]\n",
    "np_arr = np.array(l)\n",
    "np_arr, np_arr.dtype==np.int64, np_arr.shape"
   ]
  },
  {
   "cell_type": "code",
   "execution_count": 8,
   "id": "3074dbb4",
   "metadata": {},
   "outputs": [
    {
     "data": {
      "text/plain": [
       "array(['4.5', '-6.0', 'A', 'C', '0'], dtype='<U64')"
      ]
     },
     "execution_count": 8,
     "metadata": {},
     "output_type": "execute_result"
    }
   ],
   "source": [
    "j = [4.5, -6.0, 'A', 'C', 0]\n",
    "nph_arr = np.array(j, dtype='<U64')\n",
    "nph_arr"
   ]
  },
  {
   "cell_type": "code",
   "execution_count": 9,
   "id": "0f6b5a54",
   "metadata": {},
   "outputs": [
    {
     "data": {
      "text/plain": [
       "(6, 3, (3, 2), 2, dtype('float64'), 8)"
      ]
     },
     "execution_count": 9,
     "metadata": {},
     "output_type": "execute_result"
    }
   ],
   "source": [
    "array3 = np.array([[2.4,3],[4.91,7],[0,-1]])\n",
    "\n",
    "array3.size, len(array3), array3.shape, array3.ndim, array3.dtype, array3.itemsize"
   ]
  },
  {
   "cell_type": "code",
   "execution_count": 10,
   "id": "0f18fec1",
   "metadata": {},
   "outputs": [
    {
     "data": {
      "text/plain": [
       "(array(['Aryan', 'Rohan', 'Rohtak Rai'], dtype='<U10'), dtype('<U10'), 40)"
      ]
     },
     "execution_count": 10,
     "metadata": {},
     "output_type": "execute_result"
    }
   ],
   "source": [
    "s = ['Aryan', 'Rohan', 'Rohtak Rai']\n",
    "a = np.array(s)\n",
    "a, a.dtype, a.itemsize\n"
   ]
  },
  {
   "cell_type": "code",
   "execution_count": null,
   "id": "13386e0e",
   "metadata": {},
   "outputs": [],
   "source": []
  },
  {
   "cell_type": "code",
   "execution_count": 11,
   "id": "9fb1b08f",
   "metadata": {},
   "outputs": [
    {
     "data": {
      "text/plain": [
       "(array([[0., 0., 0., 0.],\n",
       "        [0., 0., 0., 0.],\n",
       "        [0., 0., 0., 0.]]),\n",
       " array([[1., 1., 1.],\n",
       "        [1., 1., 1.],\n",
       "        [1., 1., 1.],\n",
       "        [1., 1., 1.]]))"
      ]
     },
     "execution_count": 11,
     "metadata": {},
     "output_type": "execute_result"
    }
   ],
   "source": [
    "np.zeros((3,4)), np.ones((4,3))"
   ]
  },
  {
   "cell_type": "code",
   "execution_count": 12,
   "id": "b5fd5529",
   "metadata": {},
   "outputs": [
    {
     "data": {
      "text/plain": [
       "(array([20, 22, 24, 26]),\n",
       " array([[0, 1, 2, 3, 4],\n",
       "        [5, 6, 7, 8, 9]]))"
      ]
     },
     "execution_count": 12,
     "metadata": {},
     "output_type": "execute_result"
    }
   ],
   "source": [
    "np.arange(20, 27, 2), np.arange(10).reshape((2,5))\n"
   ]
  },
  {
   "cell_type": "code",
   "execution_count": 13,
   "id": "030d9fa0",
   "metadata": {},
   "outputs": [
    {
     "name": "stdout",
     "output_type": "stream",
     "text": [
      "[[ 0  1  2  3]\n",
      " [ 4  5  6  7]\n",
      " [ 8  9 10 11]\n",
      " [12 13 14 15]\n",
      " [16 17 18 19]]\n"
     ]
    },
    {
     "data": {
      "text/plain": [
       "(array([[ 0,  1,  2,  3,  4,  5,  6,  7,  8,  9, 10, 11, 12, 13, 14, 15,\n",
       "         16, 17, 18, 19]]),\n",
       " array([[ 0,  1,  2,  3,  4,  5,  6,  7,  8,  9, 10, 11, 12, 13, 14, 15,\n",
       "         16, 17, 18, 19]]))"
      ]
     },
     "execution_count": 13,
     "metadata": {},
     "output_type": "execute_result"
    }
   ],
   "source": [
    "k = np.arange(20)\n",
    "k.shape = (5,4) # inplace change\n",
    "j = k.reshape((1,20)) # returns new \n",
    "print(k)\n",
    "k.resize(1,20) # inplace change\n",
    "k, j\n"
   ]
  },
  {
   "cell_type": "code",
   "execution_count": 14,
   "id": "687dbb0e",
   "metadata": {},
   "outputs": [
    {
     "data": {
      "text/plain": [
       "(array([0, 1, 1]),\n",
       " array([[0],\n",
       "        [1],\n",
       "        [1]]),\n",
       " array([[0],\n",
       "        [1],\n",
       "        [1]]),\n",
       " array([[  0,  20],\n",
       "        [  1, 200],\n",
       "        [  1,  30]]),\n",
       " array([-7, 30]))"
      ]
     },
     "execution_count": 14,
     "metadata": {},
     "output_type": "execute_result"
    }
   ],
   "source": [
    "arr1 = np.array([[ -7, 0, 10, 20],\n",
    "\t\t\t\t [ -5, 1, 40, 200],\n",
    "\t\t\t\t [ -1, 1, 4, 30]])\n",
    "arr1[0:3, 1], arr1[0:3, 1:2], arr1[0:3, [1]], arr1[0:3, [1,3]], arr1[[0, 2], [0, 3]]"
   ]
  },
  {
   "cell_type": "code",
   "execution_count": 15,
   "id": "45b92280",
   "metadata": {},
   "outputs": [
    {
     "data": {
      "text/plain": [
       "(array([[13, 26],\n",
       "        [19, 14]]),\n",
       " array([[ -7, -14],\n",
       "        [-11, -10]]),\n",
       " array([[ 30, 120],\n",
       "        [ 60,  24]]),\n",
       " array([[120, 132],\n",
       "        [ 70, 104]]),\n",
       " array([[ 9, 36],\n",
       "        [16,  4]]))"
      ]
     },
     "execution_count": 15,
     "metadata": {},
     "output_type": "execute_result"
    }
   ],
   "source": [
    "a1 = np.array([[3,6],[4,2]])\n",
    "a2 = np.array([[10,20],[15,12]])\n",
    "a1+a2, a1-a2, a1*a2, a1@a2, a1**2"
   ]
  },
  {
   "cell_type": "code",
   "execution_count": 16,
   "id": "6517774a",
   "metadata": {},
   "outputs": [
    {
     "data": {
      "text/plain": [
       "(array([7, 8]),\n",
       " array([[3, 6],\n",
       "        [4, 2]]),\n",
       " array([[10, 20],\n",
       "        [15, 12]]),\n",
       " 15)"
      ]
     },
     "execution_count": 16,
     "metadata": {},
     "output_type": "execute_result"
    }
   ],
   "source": [
    "a1.sum(0), a1, a2, np.sum(a1)"
   ]
  },
  {
   "cell_type": "code",
   "execution_count": 17,
   "id": "067c6bd5",
   "metadata": {},
   "outputs": [
    {
     "data": {
      "text/plain": [
       "(array([[13, 26],\n",
       "        [19, 14]]),\n",
       " array([[3, 6],\n",
       "        [4, 2]]),\n",
       " array([[10, 20],\n",
       "        [15, 12]]))"
      ]
     },
     "execution_count": 17,
     "metadata": {},
     "output_type": "execute_result"
    }
   ],
   "source": [
    "\n",
    "np.add(a1, a2), a1,a2 #no inplace"
   ]
  },
  {
   "cell_type": "code",
   "execution_count": 18,
   "id": "5e76af78",
   "metadata": {},
   "outputs": [
    {
     "name": "stdout",
     "output_type": "stream",
     "text": [
      "[[ 3  6 10 20]\n",
      " [ 4  2 15 12]]\n",
      "[[ 3  6]\n",
      " [ 4  2]\n",
      " [10 20]\n",
      " [15 12]]\n",
      "[[ 3  6 10 20]\n",
      " [ 4  2 15 12]]\n"
     ]
    },
    {
     "data": {
      "text/plain": [
       "(array([[3, 6],\n",
       "        [4, 2]]),\n",
       " array([[10, 20],\n",
       "        [15, 12]]))"
      ]
     },
     "execution_count": 18,
     "metadata": {},
     "output_type": "execute_result"
    }
   ],
   "source": [
    "np.concatenate((a1, a2), axis=1),\n",
    "\n",
    "print(np.hstack((a1, a2)))\n",
    "print(np.vstack((a1, a2)))\n",
    "\n",
    "comb = np.hstack((a1, a2))\n",
    "\n",
    "print(comb)\n",
    "a1, a2"
   ]
  },
  {
   "cell_type": "code",
   "execution_count": 19,
   "id": "9c05a946",
   "metadata": {},
   "outputs": [
    {
     "name": "stdout",
     "output_type": "stream",
     "text": [
      "[[ 3  6 10 20]\n",
      " [ 4  2 15 12]]\n"
     ]
    },
    {
     "data": {
      "text/plain": [
       "([array([[3],\n",
       "         [4]]),\n",
       "  array([[ 6, 10],\n",
       "         [ 2, 15]]),\n",
       "  array([[20],\n",
       "         [12]])],\n",
       " [array([[3],\n",
       "         [4]]),\n",
       "  array([[ 6, 10],\n",
       "         [ 2, 15]]),\n",
       "  array([[20],\n",
       "         [12]])])"
      ]
     },
     "execution_count": 19,
     "metadata": {},
     "output_type": "execute_result"
    }
   ],
   "source": [
    "print(comb)\n",
    "np.hsplit(comb, [1,3]), np.split(comb, [1,3], axis = 1)"
   ]
  },
  {
   "cell_type": "code",
   "execution_count": 20,
   "id": "f17d3a2e",
   "metadata": {},
   "outputs": [
    {
     "data": {
      "text/plain": [
       "(6, 20, array([6, 4]), array([4, 6]), 1.479019945774904, 3.75)"
      ]
     },
     "execution_count": 20,
     "metadata": {},
     "output_type": "execute_result"
    }
   ],
   "source": [
    "np.max(a1), np.max(comb), np.max(a1, axis = 1), a1.max(axis=0), np.std(a1), np.mean(a1)"
   ]
  },
  {
   "cell_type": "code",
   "execution_count": 21,
   "id": "4ce18028",
   "metadata": {},
   "outputs": [
    {
     "data": {
      "text/plain": [
       "array([[78, 67, 56],\n",
       "       [76, 75, 47],\n",
       "       [84, 59, 60],\n",
       "       [67, 72, 54]])"
      ]
     },
     "execution_count": 21,
     "metadata": {},
     "output_type": "execute_result"
    }
   ],
   "source": [
    "fnp = np.loadtxt('students.csv',skiprows=1,usecols=(1,2,3), delimiter=',', dtype=int, unpack=False)\n",
    "fnp\n",
    "#use unpack to transpose"
   ]
  },
  {
   "cell_type": "code",
   "execution_count": 22,
   "id": "4aec789d",
   "metadata": {},
   "outputs": [
    {
     "data": {
      "text/plain": [
       "array([[ 36,  18,  57],\n",
       "       [989,  23,  45],\n",
       "       [ 43,  51, 989],\n",
       "       [ 41,  40,  60],\n",
       "       [ 13,  18,  27]])"
      ]
     },
     "execution_count": 22,
     "metadata": {},
     "output_type": "execute_result"
    }
   ],
   "source": [
    "ffnp = np.genfromtxt('marks.csv', usecols=(1,2,3), skip_header=1, delimiter=',', dtype=int, missing_values=[''],filling_values=989) # missing values tells which string is treated as missing value\n",
    "ffnp"
   ]
  },
  {
   "cell_type": "code",
   "execution_count": null,
   "id": "efd499b4",
   "metadata": {},
   "outputs": [],
   "source": []
  },
  {
   "cell_type": "code",
   "execution_count": 25,
   "id": "b197fb05",
   "metadata": {},
   "outputs": [],
   "source": [
    "arr = np.array([1,2,3,4,5,6])"
   ]
  },
  {
   "cell_type": "code",
   "execution_count": null,
   "id": "31d0116f",
   "metadata": {},
   "outputs": [],
   "source": []
  },
  {
   "cell_type": "code",
   "execution_count": null,
   "id": "77a344c8",
   "metadata": {},
   "outputs": [],
   "source": []
  },
  {
   "cell_type": "code",
   "execution_count": 27,
   "id": "0d5d7e97",
   "metadata": {},
   "outputs": [
    {
     "data": {
      "text/plain": [
       "array([1, 2, 4, 6])"
      ]
     },
     "execution_count": 27,
     "metadata": {},
     "output_type": "execute_result"
    }
   ],
   "source": [
    "arr[[True, True, False, True, False, True]]"
   ]
  },
  {
   "cell_type": "code",
   "execution_count": null,
   "id": "64c58e4c",
   "metadata": {},
   "outputs": [],
   "source": []
  },
  {
   "cell_type": "code",
   "execution_count": null,
   "id": "9bbdbfc7",
   "metadata": {},
   "outputs": [],
   "source": []
  },
  {
   "cell_type": "code",
   "execution_count": null,
   "id": "074b56e0",
   "metadata": {},
   "outputs": [],
   "source": []
  },
  {
   "cell_type": "code",
   "execution_count": null,
   "id": "4836bdf2",
   "metadata": {},
   "outputs": [],
   "source": []
  }
 ],
 "metadata": {
  "kernelspec": {
   "display_name": "Python 3",
   "language": "python",
   "name": "python3"
  },
  "language_info": {
   "codemirror_mode": {
    "name": "ipython",
    "version": 3
   },
   "file_extension": ".py",
   "mimetype": "text/x-python",
   "name": "python",
   "nbconvert_exporter": "python",
   "pygments_lexer": "ipython3",
   "version": "3.12.3"
  }
 },
 "nbformat": 4,
 "nbformat_minor": 5
}
